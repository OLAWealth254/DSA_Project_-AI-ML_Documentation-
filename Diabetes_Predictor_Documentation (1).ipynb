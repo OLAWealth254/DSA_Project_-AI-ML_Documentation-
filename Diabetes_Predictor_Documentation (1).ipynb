{
 "cells": [
  {
   "cell_type": "markdown",
   "id": "c61e44ef",
   "metadata": {},
   "source": [
    "# 📝 Diabetes Risk Prediction Web App\n",
    "This notebook documents the key steps in building and deploying a diabetes prediction Flask application."
   ]
  },
  {
   "cell_type": "markdown",
   "id": "4d241f7c",
   "metadata": {},
   "source": [
    "## 📌 Objective\n",
    "Build a web-based prediction system using **Flask** and a **Random Forest Classifier** to determine the risk of diabetes based on user input."
   ]
  },
  {
   "cell_type": "markdown",
   "id": "c93c7c92",
   "metadata": {},
   "source": [
    "## 🧠 Model Preparation\n",
    "We trained a **Random Forest Classifier** using the following features:\n",
    "- Pregnancies, Glucose, BloodPressure, SkinThickness, Insulin, BMI, DiabetesPedigreeFunction, Age\n",
    "\n",
    "We created a synthetic target (`Diabetic`) using the rule:\n",
    "```python\n",
    "(Glucose >= 126) or (BMI >= 35 and Insulin >= 200)\n",
    "```"
   ]
  },
  {
   "cell_type": "code",
   "execution_count": null,
   "id": "4f255717",
   "metadata": {},
   "outputs": [],
   "source": [
    "import pickle\n",
    "# Save the trained model and scaler\n",
    "with open(\"random_forest_model.pkl\", \"wb\") as f:\n",
    "    pickle.dump(model, f)\n",
    "\n",
    "with open(\"scaler.pkl\", \"wb\") as f:\n",
    "    pickle.dump(scaler, f)"
   ]
  },
  {
   "cell_type": "markdown",
   "id": "21666f37",
   "metadata": {},
   "source": [
    "## 🌐 Flask Application (`app.py`)\n",
    "The Flask app loads the model and scaler, serves a form via `index.html`, and performs prediction based on user input."
   ]
  },
  {
   "cell_type": "code",
   "execution_count": null,
   "id": "0f622d81",
   "metadata": {},
   "outputs": [],
   "source": [
    "from flask import Flask, request, render_template\n",
    "import pickle\n",
    "import numpy as np\n",
    "\n",
    "app = Flask(__name__)\n",
    "\n",
    "model = pickle.load(open(\"random_forest_model.pkl\", \"rb\"))\n",
    "scaler = pickle.load(open(\"scaler.pkl\", \"rb\"))\n",
    "\n",
    "@app.route('/')\n",
    "def home():\n",
    "    return render_template('index.html')\n",
    "\n",
    "@app.route('/predict', methods=['POST'])\n",
    "def predict():\n",
    "    data = [float(request.form[key]) for key in [\n",
    "        'Pregnancies', 'Glucose', 'BloodPressure', 'SkinThickness',\n",
    "        'Insulin', 'BMI', 'DiabetesPedigreeFunction', 'Age']]\n",
    "    input_data = scaler.transform([data])\n",
    "    prediction = model.predict(input_data)[0]\n",
    "    return render_template('index.html', prediction_text='Prediction: {}'.format('Diabetic' if prediction else 'Non-Diabetic'))\n",
    "\n",
    "if __name__ == \"__main__\":\n",
    "    app.run(debug=True)"
   ]
  },
  {
   "cell_type": "markdown",
   "id": "62b3c084",
   "metadata": {},
   "source": [
    "## 📄 HTML Form (`index.html`)\n",
    "The user interface used by Flask.\n",
    "```html\n",
    "<form action=\"/predict\" method=\"POST\">\n",
    "    <input name=\"Glucose\" placeholder=\"Glucose\">\n",
    "    <!-- Add all required input fields -->\n",
    "    <button type=\"submit\">Predict</button>\n",
    "</form>\n",
    "```"
   ]
  },
  {
   "cell_type": "markdown",
   "id": "25fa2495",
   "metadata": {},
   "source": [
    "## 🧾 requirements.txt\n",
    "```text\n",
    "flask\n",
    "numpy\n",
    "scikit-learn\n",
    "pandas\n",
    "```"
   ]
  },
  {
   "cell_type": "markdown",
   "id": "5f07c76c",
   "metadata": {},
   "source": [
    "## 🚀 Deployment Options\n",
    "- Render\n",
    "- Heroku\n",
    "- Replit\n",
    "\n",
    "Run locally with:\n",
    "```bash\n",
    "python app.py\n",
    "```"
   ]
  },
  {
   "cell_type": "markdown",
   "id": "f72d095c",
   "metadata": {},
   "source": [
    "## 📊 Feature Importance\n",
    "This plot shows which features the model found most useful for predicting diabetes risk."
   ]
  },
  {
   "cell_type": "code",
   "execution_count": null,
   "id": "a5f157b9",
   "metadata": {},
   "outputs": [],
   "source": [
    "from IPython.display import Image\n",
    "Image(filename='feature_importance.png')"
   ]
  },
  {
   "cell_type": "markdown",
   "id": "15c24100",
   "metadata": {},
   "source": [
    "## 🔍 Example Prediction\n",
    "This code shows how to make a prediction using the trained model."
   ]
  },
  {
   "cell_type": "code",
   "execution_count": null,
   "id": "115867f5",
   "metadata": {},
   "outputs": [],
   "source": [
    "import numpy as np\n",
    "import pickle\n",
    "\n",
    "# Load model and scaler\n",
    "model = pickle.load(open(\"random_forest_model.pkl\", \"rb\"))\n",
    "scaler = pickle.load(open(\"scaler.pkl\", \"rb\"))\n",
    "\n",
    "# Example input (simulated patient)\n",
    "data = np.array([[2, 130, 82, 25, 140, 32.4, 0.45, 45]])\n",
    "data_scaled = scaler.transform(data)\n",
    "pred = model.predict(data_scaled)[0]\n",
    "print(\"Prediction:\", \"Diabetic\" if pred else \"Non-Diabetic\")"
   ]
  }
 ],
 "metadata": {},
 "nbformat": 4,
 "nbformat_minor": 5
}
