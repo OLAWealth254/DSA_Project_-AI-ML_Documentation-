{
 "cells": [
  {
   "cell_type": "markdown",
   "id": "e96b2e27",
   "metadata": {},
   "source": [
    "# 🧪 Interactive Diabetes Prediction\n",
    "Use the sliders below to input patient details."
   ]
  },
  {
   "cell_type": "code",
   "execution_count": null,
   "id": "98c29da8",
   "metadata": {},
   "outputs": [],
   "source": [
    "\n",
    "# 🧪 Interactive Diabetes Prediction with ipywidgets\n",
    "\n",
    "import joblib\n",
    "import numpy as np\n",
    "import ipywidgets as widgets\n",
    "from IPython.display import display\n",
    "\n",
    "# Load model\n",
    "model = joblib.load(\"diabetes_model.pkl\")\n",
    "\n",
    "# Define input widgets\n",
    "age = widgets.IntSlider(description='Age', min=10, max=100, value=45)\n",
    "pregnancies = widgets.IntSlider(description='Pregnancies', min=0, max=20, value=2)\n",
    "glucose = widgets.IntSlider(description='Glucose', min=0, max=300, value=140)\n",
    "bp = widgets.IntSlider(description='Blood Pressure', min=0, max=180, value=70)\n",
    "skin = widgets.IntSlider(description='Skin Thickness', min=0, max=100, value=30)\n",
    "insulin = widgets.IntSlider(description='Insulin', min=0, max=900, value=100)\n",
    "bmi = widgets.FloatSlider(description='BMI', min=0, max=70, value=35.0)\n",
    "dpf = widgets.FloatSlider(description='DPF', min=0.0, max=2.5, step=0.01, value=0.6)\n",
    "\n",
    "output = widgets.Output()\n",
    "\n",
    "def predict_diabetes(change=None):\n",
    "    with output:\n",
    "        output.clear_output()\n",
    "        features = np.array([[age.value, pregnancies.value, glucose.value, bp.value,\n",
    "                              skin.value, insulin.value, bmi.value, dpf.value]])\n",
    "        prediction = model.predict(features)[0]\n",
    "        result = \"Diabetic\" if prediction == 1 else \"Not Diabetic\"\n",
    "        print(\"Prediction:\", result)\n",
    "\n",
    "# Attach event listeners\n",
    "for widget in [age, pregnancies, glucose, bp, skin, insulin, bmi, dpf]:\n",
    "    widget.observe(predict_diabetes, names='value')\n",
    "\n",
    "# Display interface\n",
    "display(age, pregnancies, glucose, bp, skin, insulin, bmi, dpf, output)\n",
    "predict_diabetes()\n"
   ]
  }
 ],
 "metadata": {},
 "nbformat": 4,
 "nbformat_minor": 5
}
