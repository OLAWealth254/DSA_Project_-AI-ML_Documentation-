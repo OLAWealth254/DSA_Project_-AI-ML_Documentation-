{
 "cells": [
  {
   "cell_type": "markdown",
   "id": "16c87c08",
   "metadata": {},
   "source": [
    "# 🧪 Diabetes Prediction - Jupyter Notebook Version"
   ]
  },
  {
   "cell_type": "code",
   "execution_count": null,
   "id": "e705c266",
   "metadata": {},
   "outputs": [],
   "source": [
    "\n",
    "# Diabetes Prediction with Trained Model\n",
    "\n",
    "import joblib\n",
    "import numpy as np\n",
    "import pandas as pd\n",
    "\n",
    "# Load the trained model\n",
    "model = joblib.load(\"diabetes_model.pkl\")\n",
    "\n",
    "# Define input fields\n",
    "def predict_diabetes(age, pregnancies, glucose, bp, skin, insulin, bmi, dpf):\n",
    "    features = np.array([[age, pregnancies, glucose, bp, skin, insulin, bmi, dpf]])\n",
    "    prediction = model.predict(features)[0]\n",
    "    return \"Diabetic\" if prediction == 1 else \"Not Diabetic\"\n",
    "\n",
    "# Example input\n",
    "age = 45\n",
    "pregnancies = 2\n",
    "glucose = 140\n",
    "bp = 70\n",
    "skin = 30\n",
    "insulin = 100\n",
    "bmi = 35.0\n",
    "dpf = 0.6\n",
    "\n",
    "result = predict_diabetes(age, pregnancies, glucose, bp, skin, insulin, bmi, dpf)\n",
    "print(\"Prediction:\", result)\n"
   ]
  }
 ],
 "metadata": {},
 "nbformat": 4,
 "nbformat_minor": 5
}
